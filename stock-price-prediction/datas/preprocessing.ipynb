{
 "cells": [
  {
   "cell_type": "code",
   "execution_count": null,
   "metadata": {},
   "outputs": [],
   "source": [
    "import pandas as pd\n",
    "\n",
    "data = pd.read_csv('stock_details_5_years.csv')\n",
    "\n",
    "data"
   ]
  },
  {
   "cell_type": "code",
   "execution_count": null,
   "metadata": {},
   "outputs": [],
   "source": [
    "for campany, group in data.groupby('Company'):\n",
    "    print(f\"tackling: {campany}\")\n",
    "    group.to_csv(f\"splited/{campany}.csv\", index=False)\n",
    "    "
   ]
  },
  {
   "cell_type": "code",
   "execution_count": 5,
   "metadata": {},
   "outputs": [],
   "source": [
    "import os\n",
    "\n",
    "def cal_ad_cap(input_folder, output_folder):\n",
    "    # 입력 폴더 내 모든 파일을 가져옵니다.\n",
    "    for file_name in os.listdir(input_folder):\n",
    "        if file_name.endswith(\".csv\"):\n",
    "            input_file_path = os.path.join(input_folder, file_name)\n",
    "            \n",
    "            # CSV 파일 로드\n",
    "            data = pd.read_csv(input_file_path)\n",
    "            \n",
    "            # 시가총액을 1로 초기화 (Close Price를 기준으로 시작)\n",
    "            initial_market_cap = 1.0\n",
    "            data['Adjusted Market Cap'] = initial_market_cap\n",
    "\n",
    "            # 첫 번째 종가를 기준으로 시가총액 추이를 계산합니다.\n",
    "            first_close_price = data.iloc[0]['Close']\n",
    "\n",
    "            # Adjusted Market Cap 계산\n",
    "            for i in range(1, len(data)):\n",
    "                # 전날 주가와 주식 분할 정보를 가져옵니다.\n",
    "                previous_close = data.iloc[i - 1]['Close']\n",
    "                stock_splits = data.iloc[i]['Stock Splits']\n",
    "                \n",
    "                # 주식 분할이 발생하면 주식 수를 조정합니다.\n",
    "                if stock_splits != 0:\n",
    "                    first_close_price /= stock_splits\n",
    "\n",
    "                # Adjusted Market Cap 계산: (현재 종가 / 첫 번째 종가) * 1.0\n",
    "                data.at[i, 'Adjusted Market Cap'] = (data.iloc[i]['Close'] / first_close_price) * initial_market_cap\n",
    "\n",
    "            data = data[['Date', 'Adjusted Market Cap']]\n",
    "            output_file_path = os.path.join(output_folder, f\"{file_name}\")\n",
    "            data.to_csv(output_file_path, index=False)\n",
    "            print(f\"Processed {file_name}, saved as {output_file_path}\")\n"
   ]
  },
  {
   "cell_type": "code",
   "execution_count": null,
   "metadata": {},
   "outputs": [],
   "source": [
    "cal_ad_cap('splited', 'adjusted')"
   ]
  },
  {
   "cell_type": "code",
   "execution_count": null,
   "metadata": {},
   "outputs": [],
   "source": [
    "import pandas as pd\n",
    "import os\n",
    "\n",
    "def merge_ad_data(adjusted_folder, output_file):\n",
    "    merged_data = pd.DataFrame()\n",
    "\n",
    "    # adjusted 폴더 내 모든 파일을 가져옵니다.\n",
    "    for file_name in os.listdir(adjusted_folder):\n",
    "        if file_name.endswith(\".csv\"):\n",
    "            file_path = os.path.join(adjusted_folder, file_name)\n",
    "            \n",
    "            # CSV 파일 로드\n",
    "            data = pd.read_csv(file_path)\n",
    "            \n",
    "            # 기업 이름을 파일명에서 추출 (확장자를 제거)\n",
    "            company_name = os.path.splitext(file_name)[0]\n",
    "            \n",
    "            # 'Date' 열을 인덱스로 설정하고 'Adjusted Market Cap'만 남기고 병합 준비\n",
    "            data = data[['Date', 'Adjusted Market Cap']].rename(columns={'Adjusted Market Cap': company_name})\n",
    "            \n",
    "            if merged_data.empty:\n",
    "                # 첫 번째 파일일 경우 'Date' 열을 포함한 데이터프레임 생성\n",
    "                merged_data = data\n",
    "            else:\n",
    "                # 이후 파일은 'Date'를 기준으로 병합\n",
    "                merged_data = pd.merge(merged_data, data, on='Date', how='outer')\n",
    "\n",
    "    # 'Date' 열을 맨 앞으로 두고, 나머지 열을 알파벳 순으로 정렬\n",
    "    columns_sorted = ['Date'] + sorted(merged_data.columns.drop('Date'))\n",
    "    merged_data = merged_data[columns_sorted]\n",
    "    \n",
    "    # 병합된 데이터 저장\n",
    "    merged_data.to_csv(output_file, index=False)\n",
    "    print(f\"Merged data saved as {output_file}\")\n",
    "\n",
    "# 함수 호출 예시: adjusted 폴더의 데이터를 병합하여 output.csv로 저장\n",
    "adjusted_folder = 'adjusted'\n",
    "output_file = 'merged_adjusted_market_cap.csv'\n",
    "merge_ad_data(adjusted_folder, output_file)\n"
   ]
  },
  {
   "cell_type": "code",
   "execution_count": 12,
   "metadata": {},
   "outputs": [],
   "source": [
    "df = pd.read_csv('merged_adjusted_market_cap.csv')"
   ]
  },
  {
   "cell_type": "code",
   "execution_count": null,
   "metadata": {},
   "outputs": [],
   "source": []
  },
  {
   "cell_type": "code",
   "execution_count": null,
   "metadata": {},
   "outputs": [],
   "source": [
    "df_m7 = df[[\"AAPL\",\"MSFT\", \"NVDA\", \"GOOGL\", \"AMZN\",\"META\", \"TSLA\" ]]"
   ]
  }
 ],
 "metadata": {
  "kernelspec": {
   "display_name": "AI",
   "language": "python",
   "name": "python3"
  },
  "language_info": {
   "codemirror_mode": {
    "name": "ipython",
    "version": 3
   },
   "file_extension": ".py",
   "mimetype": "text/x-python",
   "name": "python",
   "nbconvert_exporter": "python",
   "pygments_lexer": "ipython3",
   "version": "3.10.15"
  }
 },
 "nbformat": 4,
 "nbformat_minor": 2
}
